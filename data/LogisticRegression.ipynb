{
 "cells": [
  {
   "cell_type": "code",
   "execution_count": 167,
   "metadata": {
    "collapsed": true
   },
   "outputs": [],
   "source": [
    "from __future__ import print_function\n",
    "import numpy as np\n",
    "import tensorflow as tf\n",
    "from six.moves import cPickle as pickle\n",
    "from six.moves import range\n",
    "import math"
   ]
  },
  {
   "cell_type": "code",
   "execution_count": 168,
   "metadata": {
    "collapsed": false
   },
   "outputs": [],
   "source": [
    "#load data,channge type\n",
    "load = np.genfromtxt(\"/Users/yueyuchen/Documents/ML/ML_Immune/Machine_Learning_Immunogenicity/data/bcell.csv\",dtype = str, delimiter = ',')\n",
    "\n",
    "length1 = np.shape(load)[0]\n",
    "labels1 = np.zeros(length1)\n",
    "load1 = np.zeros(length1)\n",
    "for i in range(length1):\n",
    "    labels1[i] = (load[i,1] == 'Positive')\n",
    "for i in range(length1):   \n",
    "    load1[i] = len(load[i,0])\n",
    "data = []\n",
    "labels = []\n",
    "for i in range(length1):\n",
    "    if(load1[i] < 20):\n",
    "        data.append(load[i,0])\n",
    "        labels.append(labels1[i])\n",
    "\n",
    "length = len(data)\n",
    "\n",
    "\n",
    "        \n",
    "dataset = []\n",
    "for d in data:\n",
    "    d1 = []\n",
    "    for l in d:\n",
    "        d1.append(np.float32(ord(l)))\n",
    "    for j in range(20-len(d1)):\n",
    "        d1.append(np.float32(0))\n",
    "    dataset.append(d1)\n",
    "\n",
    "for i in range(len(labels)):\n",
    "    if (labels[i] == 0):\n",
    "        labels[i] = [1,0]\n",
    "    else:\n",
    "        labels[i] = [0,1]\n",
    "        \n",
    "for i in range(length):\n",
    "    dataset[i] = np.asarray(dataset[i])\n",
    "    labels[i] = np.float32(np.asarray(labels[i]))\n",
    "\n",
    "dataset = np.asarray(dataset)\n",
    "labels = np.asarray(labels)\n",
    "\n"
   ]
  },
  {
   "cell_type": "code",
   "execution_count": 205,
   "metadata": {
    "collapsed": false
   },
   "outputs": [
    {
     "name": "stdout",
     "output_type": "stream",
     "text": [
      "(324231, 20) (324231, 2)\n"
     ]
    }
   ],
   "source": [
    "\n",
    "\n",
    "shuf = np.append(dataset,labels,axis = 1)\n",
    "np.random.shuffle(c)\n",
    "\n",
    "dataset = c[:,:20]\n",
    "labels = c[:,20:22]\n",
    "print (np.shape(dataset),np.shape(labels))\n"
   ]
  },
  {
   "cell_type": "code",
   "execution_count": 206,
   "metadata": {
    "collapsed": false
   },
   "outputs": [],
   "source": [
    "\n",
    "    \n",
    "trainnum = 200000\n",
    "testnum = 20000\n",
    "train_dataset = dataset[:trainnum]\n",
    "train_labels = labels[:trainnum]\n",
    "\n",
    "test_dataset = dataset[trainnum:trainnum + testnum]\n",
    "test_labels = labels[trainnum:trainnum + testnum]\n",
    "\n",
    "valid_dataset = dataset[trainnum + testnum:trainnum + 2*testnum]\n",
    "valid_labels = labels[trainnum + testnum:trainnum + 2*testnum]\n",
    "\n"
   ]
  },
  {
   "cell_type": "code",
   "execution_count": 207,
   "metadata": {
    "collapsed": false
   },
   "outputs": [
    {
     "name": "stdout",
     "output_type": "stream",
     "text": [
      "[ 83.  71.  86.  70.  86.  78.  73.  78.  67.  67.  82.  68.  82.  83.  86.\n",
      "   0.   0.   0.   0.   0.]\n"
     ]
    }
   ],
   "source": [
    "print (dataset[5],)"
   ]
  },
  {
   "cell_type": "code",
   "execution_count": 208,
   "metadata": {
    "collapsed": false
   },
   "outputs": [],
   "source": [
    "\n",
    "\n",
    "graph = tf.Graph()\n",
    "with graph.as_default():\n",
    "\n",
    "  # Input data.\n",
    "  # Load the training, validation and test data into constants that are\n",
    "  # attached to the graph.\n",
    "  tf_train_dataset = tf.constant(train_dataset)\n",
    "  tf_train_labels = tf.constant(train_labels)\n",
    "  tf_valid_dataset = tf.constant(valid_dataset)\n",
    "  tf_test_dataset = tf.constant(test_dataset)\n",
    "  \n",
    "  # Variables.\n",
    "  # These are the parameters that we are going to be training. The weight\n",
    "  # matrix will be initialized using random values following a (truncated)\n",
    "  # normal distribution. The biases get initialized to zero.\n",
    "  weights = tf.Variable(\n",
    "    tf.truncated_normal([20, 2]))\n",
    "  biases = tf.Variable(tf.zeros([2]))\n",
    "  \n",
    "  # Training computation.\n",
    "  \n",
    "  logits = tf.matmul(tf_train_dataset, weights) + biases\n",
    "  loss = tf.reduce_mean(\n",
    "    tf.nn.softmax_cross_entropy_with_logits(logits, tf_train_labels))\n",
    "  \n",
    "  # Optimizer.\n",
    "  # We are going to find the minimum of this loss using gradient descent.\n",
    "  optimizer = tf.train.GradientDescentOptimizer(0.01).minimize(loss)\n",
    "  \n",
    "  # Predictions for the training, validation, and test data.\n",
    "  # These are not part of training, but merely here so that we can report\n",
    "  # accuracy figures as we train.\n",
    "  train_prediction = tf.nn.softmax(logits)\n",
    "  valid_prediction = tf.nn.softmax(\n",
    "    tf.matmul(tf_valid_dataset, weights) + biases)\n",
    "  test_prediction = tf.nn.softmax(tf.matmul(tf_test_dataset, weights) + biases)"
   ]
  },
  {
   "cell_type": "code",
   "execution_count": 209,
   "metadata": {
    "collapsed": false
   },
   "outputs": [
    {
     "name": "stdout",
     "output_type": "stream",
     "text": [
      "Initialized\n",
      "Loss at step 0: 27.043997\n",
      "Training accuracy: 78.9%\n",
      "Validation accuracy: 78.7%\n",
      "Loss at step 100: 13.752473\n",
      "Training accuracy: 82.1%\n",
      "Validation accuracy: 47.0%\n",
      "Loss at step 200: 15.043095\n",
      "Training accuracy: 66.6%\n",
      "Validation accuracy: 80.4%\n",
      "Loss at step 300: 89.045341\n",
      "Training accuracy: 80.1%\n",
      "Validation accuracy: 80.4%\n",
      "Loss at step 400: 11.942018\n",
      "Training accuracy: 82.6%\n",
      "Validation accuracy: 79.0%\n",
      "Loss at step 500: 11.944953\n",
      "Training accuracy: 82.8%\n",
      "Validation accuracy: 80.1%\n",
      "Loss at step 600: 186.718765\n",
      "Training accuracy: 80.1%\n",
      "Validation accuracy: 80.4%\n",
      "Loss at step 700: 11.746254\n",
      "Training accuracy: 82.4%\n",
      "Validation accuracy: 77.0%\n",
      "Loss at step 800: 30.952021\n",
      "Training accuracy: 80.2%\n",
      "Validation accuracy: 80.1%\n",
      "Test accuracy: 79.8%\n"
     ]
    }
   ],
   "source": [
    "num_steps = 801\n",
    "\n",
    "def accuracy(predictions, labels):\n",
    "  return (100.0 * np.sum(np.argmax(predictions, 1) == np.argmax(labels, 1))\n",
    "          / predictions.shape[0])\n",
    "\n",
    "with tf.Session(graph=graph) as session:\n",
    "   \n",
    "  tf.initialize_all_variables().run()\n",
    "  print('Initialized')\n",
    "  for step in range(num_steps):\n",
    "    \n",
    "    _, l, predictions = session.run([optimizer, loss, train_prediction])\n",
    "    if (step % 100 == 0):\n",
    "      print('Loss at step %d: %f' % (step, l))\n",
    "      print('Training accuracy: %.1f%%' % accuracy(\n",
    "        predictions, train_labels))\n",
    "      \n",
    "      print('Validation accuracy: %.1f%%' % accuracy(\n",
    "        valid_prediction.eval(), valid_labels))\n",
    "  print('Test accuracy: %.1f%%' % accuracy(test_prediction.eval(), test_labels))"
   ]
  },
  {
   "cell_type": "code",
   "execution_count": null,
   "metadata": {
    "collapsed": true
   },
   "outputs": [],
   "source": []
  }
 ],
 "metadata": {
  "kernelspec": {
   "display_name": "Python 2",
   "language": "python",
   "name": "python2"
  },
  "language_info": {
   "codemirror_mode": {
    "name": "ipython",
    "version": 2
   },
   "file_extension": ".py",
   "mimetype": "text/x-python",
   "name": "python",
   "nbconvert_exporter": "python",
   "pygments_lexer": "ipython2",
   "version": "2.7.12"
  }
 },
 "nbformat": 4,
 "nbformat_minor": 0
}
